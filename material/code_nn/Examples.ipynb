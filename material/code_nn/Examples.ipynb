{
 "cells": [
  {
   "cell_type": "markdown",
   "metadata": {},
   "source": [
    "# README\n",
    "\n",
    "After running the 1st block, you need to pick:\n",
    "    - a dataset, \n",
    "    - a type of feature\n",
    "    - a model\n",
    "    - a loss function\n",
    "then run the \"main loop\" block "
   ]
  },
  {
   "cell_type": "code",
   "execution_count": null,
   "metadata": {},
   "outputs": [],
   "source": [
    "# run this first\n",
    "%matplotlib inline\n",
    "import numpy as np\n",
    "import matplotlib.pyplot as plt\n",
    "from IPython import display\n",
    "import time\n",
    "\n",
    "x_min, x_max = -2, 4\n",
    "y_min, y_max = -5, 3\n",
    "\n",
    "x_mesh, y_mesh = np.meshgrid(np.arange(x_min, x_max, .05), np.arange(y_min, y_max, .05))\n",
    "X_mesh0 = np.vstack((x_mesh.ravel(), y_mesh.ravel())).T\n",
    "\n",
    "# Plot also the training points\n",
    "def plot_data(X, Y):\n",
    "    plt.axis('off')\n",
    "    plt.scatter(X[:, 0], X[:, 1], c=Y, cmap='winter', s =.5, marker='x')\n",
    "    plt.axis([x_min, x_max, y_min, y_max])\n",
    "\n",
    "def plot_decision_boundary(Z):\n",
    "    plt.contourf(x_mesh, y_mesh, Z > 0, cmap=plt.cm.Paired)"
   ]
  },
  {
   "cell_type": "markdown",
   "metadata": {},
   "source": [
    "# Dataset\n",
    "\n",
    "each cell below loads a different dataset."
   ]
  },
  {
   "cell_type": "code",
   "execution_count": null,
   "metadata": {},
   "outputs": [],
   "source": [
    "fn = 'linearly_separable.npz'\n",
    "data = np.load('./'+fn)\n",
    "X0 = data['X']\n",
    "Y = data['Y']\n",
    "plt.figure(dpi=100)\n",
    "plt.title(fn)\n",
    "plot_data(X0,Y)\n",
    "plt.show()"
   ]
  },
  {
   "cell_type": "code",
   "execution_count": null,
   "metadata": {},
   "outputs": [],
   "source": [
    "fn = 'double_moon.npz'\n",
    "data = np.load('./'+fn)\n",
    "X0 = data['X']\n",
    "Y = data['Y']\n",
    "plt.figure(dpi=100)\n",
    "plt.title(fn)\n",
    "plot_data(X0,Y)\n",
    "plt.show() "
   ]
  },
  {
   "cell_type": "markdown",
   "metadata": {},
   "source": [
    "# Features\n",
    "\n",
    "Each cell below contains a different processing of the features: linear or polynomials"
   ]
  },
  {
   "cell_type": "code",
   "execution_count": null,
   "metadata": {},
   "outputs": [],
   "source": [
    "## linear features\n",
    "feature_name = 'Linear features'\n",
    "X = X0\n",
    "X_mesh = X_mesh0"
   ]
  },
  {
   "cell_type": "code",
   "execution_count": null,
   "metadata": {},
   "outputs": [],
   "source": [
    "## polynomial features\n",
    "feature_name = 'Polynomial features'\n",
    "\n",
    "def polynomial_transform(X, d):\n",
    "    nSamples = X.shape[0]\n",
    "    # transform (X_1,X_2) -> (X_1,X_2, X_1*X_2, X_1^2,..,X_2^d)\n",
    "    XX = X\n",
    "    for j in range(d):\n",
    "        for k in range(d):\n",
    "            XX = np.hstack((np.reshape((X[:, 0]**j)*(X[:, 1]**k), (nSamples, 1)), XX)) \n",
    "    return XX\n",
    "\n",
    "d = 5 #degree of the polynom\n",
    "X = polynomial_transform(X0, d)\n",
    "X_mesh = polynomial_transform(X_mesh0, d)"
   ]
  },
  {
   "cell_type": "markdown",
   "metadata": {},
   "source": [
    "# Models\n",
    "\n",
    "Each cell below contains a different model: Perceptron, logistic regression.\n"
   ]
  },
  {
   "cell_type": "code",
   "execution_count": null,
   "metadata": {},
   "outputs": [],
   "source": [
    "## Linear model \n",
    "class Model:\n",
    "    def __init__(self, x):\n",
    "        self.name = 'Linear'\n",
    "        self.w = np.zeros(x.shape[1])\n",
    "        self.b = 0.\n",
    "    # compute prediction\n",
    "    def forward (self, x):\n",
    "        return np.dot(x, self.w) + self.b \n",
    "    # compute gradient\n",
    "    def backward (self, x, err):\n",
    "        self.dw = np.dot(err, x) / x.shape[0]\n",
    "        self.db = np.mean(err)\n",
    "    #update parameters\n",
    "    def update(self, eps):\n",
    "        self.w += eps * self.dw\n",
    "        self.b += eps * self.db"
   ]
  },
  {
   "cell_type": "code",
   "execution_count": null,
   "metadata": {},
   "outputs": [],
   "source": [
    "## 2 layer neural network\n",
    "h = 100\n",
    "class Model:\n",
    "    def __init__(self, x):\n",
    "        self.name='2 layer NN'\n",
    "        self.w_i = np.random.randn(x.shape[1], h)\n",
    "        self.w_o = np.zeros(h)\n",
    "        self.b_i = np.zeros(h)\n",
    "        self.b_o = 0.\n",
    "        \n",
    "    def forward(self, x):\n",
    "        self.hidden = np.maximum(np.dot(x, self.w_i) + self.b_i , 0)\n",
    "        return np.dot(self.hidden, self.w_o) + self.b_o\n",
    "    \n",
    "    def backward(self, x, err):\n",
    "        self.dw_o = np.dot(err, self.hidden) / x.shape[0]\n",
    "        self.db_o = np.mean(err)\n",
    "        err_hidden = np.multiply(np.outer(err,self.w_o), (self.hidden)>0)\n",
    "        self.dw_i = np.dot(err_hidden.T,x).T / x.shape[0]\n",
    "        self.db_i = np.mean(err_hidden)\n",
    "        \n",
    "    def update(self, eps):\n",
    "        self.w_i += eps * self.dw_i\n",
    "        self.b_i += eps * self.db_i\n",
    "        self.w_o += eps * self.dw_o\n",
    "        self.b_o += eps * self.db_o\n",
    "        "
   ]
  },
  {
   "cell_type": "markdown",
   "metadata": {},
   "source": [
    "# Loss function\n",
    "\n",
    "Each cell below contains a different loss function."
   ]
  },
  {
   "cell_type": "code",
   "execution_count": null,
   "metadata": {},
   "outputs": [],
   "source": [
    "## Perceptron \n",
    "class Loss:\n",
    "    def __init__(self):\n",
    "        self.name = 'Perceptron'\n",
    "    # compute prediction\n",
    "    def forward (self, x):\n",
    "        return x > 0 \n",
    "    # compute gradient\n",
    "    def backward (self, pred, y):\n",
    "        return y - pred"
   ]
  },
  {
   "cell_type": "code",
   "execution_count": null,
   "metadata": {},
   "outputs": [],
   "source": [
    "## logistic regression \n",
    "class Loss:\n",
    "    def __init__(self):\n",
    "        self.name = 'Logistic Regression'\n",
    "    # compute prediction\n",
    "    def forward (self, x):\n",
    "        idx = np.where(x < -20)\n",
    "        pred = 1. / (1 + np.exp(-x))\n",
    "        pred[idx] = 0\n",
    "        return pred\n",
    "    # compute gradient\n",
    "    def backward (self,pred, y):\n",
    "        return y - pred"
   ]
  },
  {
   "cell_type": "markdown",
   "metadata": {},
   "source": [
    "# Main loop\n"
   ]
  },
  {
   "cell_type": "code",
   "execution_count": null,
   "metadata": {
    "scrolled": false
   },
   "outputs": [],
   "source": [
    "## main loop for training\n",
    "plt.figure(dpi=150)\n",
    "\n",
    "model = Model(X)\n",
    "loss = Loss()\n",
    "\n",
    "eps = 1\n",
    "for i in range(1,1001): \n",
    "    \n",
    "    out  = model.forward (X)\n",
    "    pred = loss.forward(out)  \n",
    "    \n",
    "    err = loss.backward(pred, Y)\n",
    "    model.backward(X, err)\n",
    "    \n",
    "    model.update(eps)\n",
    "    \n",
    "    err = np.mean(Y != (pred>0.5))\n",
    "    \n",
    "    # Draw figure:\n",
    "    Z = model.forward(X_mesh)\n",
    "    Z = Z.reshape(x_mesh.shape)\n",
    "    title = model.name+'model with '+loss.name+' on '+feature_name+': Iteration = ' + str(i) + ', Error = ' + str(err)   \n",
    "\n",
    "    plt.clf() \n",
    "    plt.title(title)\n",
    "    plot_decision_boundary(Z)\n",
    "    plot_data(X0,Y)\n",
    "    display.clear_output(wait=True)\n",
    "    display.display(plt.gcf())\n",
    "    \n",
    "    if err <= 0.001:\n",
    "        break\n",
    "        \n",
    "display.clear_output(wait=True)"
   ]
  },
  {
   "cell_type": "code",
   "execution_count": null,
   "metadata": {},
   "outputs": [],
   "source": []
  }
 ],
 "metadata": {
  "kernelspec": {
   "display_name": "Python 3",
   "language": "python",
   "name": "python3"
  },
  "language_info": {
   "codemirror_mode": {
    "name": "ipython",
    "version": 3
   },
   "file_extension": ".py",
   "mimetype": "text/x-python",
   "name": "python",
   "nbconvert_exporter": "python",
   "pygments_lexer": "ipython3",
   "version": "3.5.1"
  }
 },
 "nbformat": 4,
 "nbformat_minor": 2
}
